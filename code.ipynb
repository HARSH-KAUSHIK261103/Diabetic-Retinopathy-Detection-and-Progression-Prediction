{
 "cells": [
  {
   "cell_type": "code",
   "execution_count": null,
   "metadata": {},
   "outputs": [],
   "source": [
    "import os\n",
    "import pandas as pd\n",
    "import numpy as np\n",
    "import tensorflow as tf\n",
    "from tensorflow.keras.models import Model\n",
    "from tensorflow.keras.layers import Input, Conv2D, MaxPooling2D, Flatten, Dense, Dropout, GlobalAveragePooling2D"
   ]
  },
  {
   "cell_type": "code",
   "execution_count": null,
   "metadata": {},
   "outputs": [],
   "source": [
    "image_folder = './gaussian_filtered_images/gaussian_filtered_images'  # Base folder for images\n",
    "csv_file = './gaussian_filtered_images/gaussian_filtered_images/train.csv'  # CSV file containing image names and labels"
   ]
  },
  {
   "cell_type": "code",
   "execution_count": null,
   "metadata": {},
   "outputs": [],
   "source": [
    "from sklearn.model_selection import train_test_split\n"
   ]
  },
  {
   "cell_type": "code",
   "execution_count": null,
   "metadata": {},
   "outputs": [],
   "source": [
    "def load_data(csv_file, image_folder):\n",
    "    df = pd.read_csv(csv_file)\n",
    "    image_paths = df['id_code'].values\n",
    "    labels = df['diagnosis'].values\n",
    "    \n",
    "    images = []\n",
    "    for img_name in image_paths:\n",
    "        # Determine the subfolder based on the label (0 to 4)\n",
    "        if labels[df[df['id_code'] == img_name].index[0]] == 0:\n",
    "            subfolder = 'no_dr'\n",
    "        elif labels[df[df['id_code'] == img_name].index[0]] == 1:\n",
    "            subfolder = 'mild'\n",
    "        elif labels[df[df['id_code'] == img_name].index[0]] == 2:\n",
    "            subfolder = 'moderate'\n",
    "        elif labels[df[df['id_code'] == img_name].index[0]] == 3:\n",
    "            subfolder = 'severe'\n",
    "        else:\n",
    "            subfolder = 'proliferate_DR'\n",
    "\n",
    "        img_path = os.path.join(image_folder, subfolder, f\"{img_name}.png\")\n",
    "        img = tf.keras.preprocessing.image.load_img(img_path, target_size=(224, 224))\n",
    "        img_array = tf.keras.preprocessing.image.img_to_array(img)\n",
    "        images.append(img_array)\n",
    "\n",
    "    images = np.array(images)\n",
    "    labels = tf.keras.utils.to_categorical(labels, num_classes=5)\n",
    "    return train_test_split(images, labels, test_size=0.2, random_state=42)\n",
    "\n",
    "# Load data\n",
    "train_images, test_images, train_labels, test_labels = load_data(csv_file, image_folder)\n",
    "\n",
    "# Normalize images\n",
    "train_images, test_images = train_images / 255.0, test_images / 255.0\n",
    "\n",
    "# Model definition\n",
    "input_img = Input(shape=(224, 224, 3))\n"
   ]
  },
  {
   "cell_type": "code",
   "execution_count": null,
   "metadata": {},
   "outputs": [],
   "source": [
    "train_images, test_images, train_labels, test_labels = load_data(csv_file, image_folder)\n",
    "\n",
    "# Normalize images\n",
    "train_images, test_images = train_images / 255.0, test_images / 255.0\n",
    "\n",
    "# Model definition\n",
    "input_img = Input(shape=(224, 224, 3))\n",
    "\n",
    "# Shared layers\n",
    "x = Conv2D(32, (3, 3), activation='relu')(input_img)\n",
    "x = MaxPooling2D((2, 2))(x)\n",
    "x = Conv2D(64, (3, 3), activation='relu')(x)\n",
    "x = MaxPooling2D((2, 2))(x)\n",
    "x = Conv2D(128, (3, 3), activation='relu')(x)\n",
    "x = MaxPooling2D((2, 2))(x)\n",
    "x = GlobalAveragePooling2D()(x)\n",
    "x = Dense(128, activation='relu')(x)\n",
    "x = Dropout(0.5)(x)"
   ]
  },
  {
   "cell_type": "code",
   "execution_count": null,
   "metadata": {},
   "outputs": [],
   "source": [
    "classification_output = Dense(5, activation='softmax', name='classification_output')(x)\n",
    "\n",
    "# Regression output\n",
    "regression_output = Dense(1, activation='linear', name='regression_output')(x)\n",
    "\n",
    "# Model definition\n",
    "model = Model(inputs=input_img, outputs=[classification_output, regression_output])\n",
    "\n",
    "# Model compilation\n",
    "model.compile(optimizer=tf.keras.optimizers.Adam(learning_rate=0.001),\n",
    "              loss={'classification_output': 'categorical_crossentropy', 'regression_output': 'mean_squared_error'},\n",
    "              metrics={'classification_output': 'accuracy', 'regression_output': 'mae'})\n"
   ]
  },
  {
   "cell_type": "code",
   "execution_count": null,
   "metadata": {},
   "outputs": [],
   "source": [
    "history = model.fit(train_images, {'classification_output': train_labels, 'regression_output': train_labels[:, 0]},  # Assuming regression targets are correlated with classification labels\n",
    "                    epochs=20, validation_data=(test_images, {'classification_output': test_labels, 'regression_output': test_labels[:, 0]}))\n"
   ]
  },
  {
   "cell_type": "code",
   "execution_count": null,
   "metadata": {},
   "outputs": [],
   "source": [
    "evaluation_results = model.evaluate(test_images, \n",
    "                                    {'classification_output': test_labels, 'regression_output': test_labels[:, 0]})\n",
    "print(evaluation_results)\n"
   ]
  },
  {
   "cell_type": "code",
   "execution_count": null,
   "metadata": {},
   "outputs": [],
   "source": [
    "# Load and preprocess a new image\n",
    "new_image_path = './val_img.jpg'  # Replace with the actual path to the new image\n",
    "new_img = tf.keras.preprocessing.image.load_img(new_image_path, target_size=(224, 224))\n",
    "new_img_array = tf.keras.preprocessing.image.img_to_array(new_img)\n",
    "new_img_array = new_img_array / 255.0  # Normalize the image\n",
    "new_img_array = np.expand_dims(new_img_array, axis=0)  # Add batch dimension\n",
    "\n",
    "# Make predictions\n",
    "predictions = model.predict(new_img_array)\n",
    "\n",
    "# Get the classification and regression outputs\n",
    "classification_prediction = predictions[0]\n",
    "regression_prediction = predictions[1]\n",
    "\n",
    "# Convert classification output to class label\n",
    "predicted_class = np.argmax(classification_prediction)\n",
    "class_labels = ['no_dr', 'mild', 'moderate', 'severe', 'proliferate_DR']  # Modify these as per your dataset\n",
    "predicted_label = class_labels[predicted_class]\n",
    "\n",
    "print(f\"Predicted Classification: {predicted_label} (Class {predicted_class})\")\n",
    "print(f\"Predicted Regression Value: {regression_prediction[0][0]}\")\n"
   ]
  },
  {
   "cell_type": "code",
   "execution_count": null,
   "metadata": {},
   "outputs": [],
   "source": []
  }
 ],
 "metadata": {
  "kernelspec": {
   "display_name": "blind_proj",
   "language": "python",
   "name": "python3"
  },
  "language_info": {
   "codemirror_mode": {
    "name": "ipython",
    "version": 3
   },
   "file_extension": ".py",
   "mimetype": "text/x-python",
   "name": "python",
   "nbconvert_exporter": "python",
   "pygments_lexer": "ipython3",
   "version": "3.9.19"
  }
 },
 "nbformat": 4,
 "nbformat_minor": 2
}
